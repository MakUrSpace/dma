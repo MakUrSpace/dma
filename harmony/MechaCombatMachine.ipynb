{
 "cells": [
  {
   "cell_type": "code",
   "execution_count": 1,
   "id": "08c73f06-a340-44c8-84b6-a88123472897",
   "metadata": {
    "tags": []
   },
   "outputs": [],
   "source": [
    "from random import randint\n",
    "from collections import defaultdict\n",
    "from uuid import uuid4\n",
    "from dataclasses import dataclass\n",
    "from datetime import datetime\n",
    "from time import sleep\n",
    "import json"
   ]
  },
  {
   "cell_type": "code",
   "execution_count": null,
   "id": "1a50b8c6-3183-46c7-898e-2932117b245b",
   "metadata": {},
   "outputs": [],
   "source": [
    "import numpy as np\n",
    "import cv2\n",
    "import matplotlib.pyplot as plt"
   ]
  },
  {
   "cell_type": "code",
   "execution_count": null,
   "id": "4bc8ef55-2459-4fe1-8489-4e372b72a92b",
   "metadata": {},
   "outputs": [],
   "source": [
    "import dma.MechaCombat as mc\n",
    "QuantumSystem = mc.QuantumSystem"
   ]
  },
  {
   "cell_type": "code",
   "execution_count": null,
   "id": "8f314a0d-deed-4f4e-af97-09a7d97694b9",
   "metadata": {},
   "outputs": [],
   "source": [
    "from ipynb.fs.full.CalibrationMachine import CalibratedCaptureMachine, CalibratedCaptureConfiguration, Camera \\\n",
    "    hStackImages, vStackImages"
   ]
  },
  {
   "cell_type": "code",
   "execution_count": null,
   "id": "e5011882-6494-420e-9820-66707947d6a6",
   "metadata": {},
   "outputs": [],
   "source": [
    "@dataclass\n",
    "class QuantumObject(TrackedObject):\n",
    "    name: str\n",
    "    objectType: str\n",
    "\n",
    "    def __eq__(self, other):\n",
    "        return super().__eq__(other)\n",
    "\n",
    "    def __repr__(self):\n",
    "        changeSet = {camNum: cS for camNum, cS in self.changeSet.items() if cS is not None and cS.changeType not in [None, 'delete']}\n",
    "        return f\"QO - {self.objectType} - {self.name} ({changeSet})\"\n",
    "    \n",
    "    def __post_init__(self):\n",
    "        super().__post_init__()\n",
    "        self.qid = str(uuid4())\n",
    "        self.actionHistory = {}\n",
    "\n",
    "    def previousVersion(self):\n",
    "        return type(self)({camNum: change.lastChange if change is not None else None for camNum, change in self.changeSet.items()}, self.name, self.objectType)"
   ]
  },
  {
   "cell_type": "code",
   "execution_count": null,
   "id": "94a51b51-44c5-4b5c-a05f-f0bc5b2c240c",
   "metadata": {},
   "outputs": [],
   "source": [
    "class HarmonyMachine(CalibratedMachine):\n",
    "    states = [\"idle\", \"unstable\", \"classify\", \"illegal\"]\n",
    "    modes = [\"passive\", \"add\", \"move\"]\n",
    "            \n",
    "    def __repr__(self):\n",
    "        return f\"Harmony -- {self.mode} - {self.state}\"\n",
    "\n",
    "    def moveMode(self):\n",
    "        self.mode = \"move\"\n",
    "    \n",
    "    def addMode(self):\n",
    "        self.mode = \"add\"\n",
    "\n",
    "    def annotateObject(self, oid, objName, objType):\n",
    "        caps = {cap.oid: cap for cap in self.newObjectBuffer + self.memory}\n",
    "        cap = caps[oid]\n",
    "        center = self.cc.rsc.changeSetToRealCenter(cap)\n",
    "        qObj = QuantumObject(cap.changeSet, objName, objType)\n",
    "        self.factories[objType](objName, \"Unaligned\")\n",
    "        self.memory.append(qObj)\n",
    "        self.newObjectBuffer.remove(cap)\n",
    "        self.lastMemory = {\"annotatedObject\": qObj}\n",
    "\n",
    "    def deleteObject(self, oid):\n",
    "        newCaps = {cap.oid: cap for cap in self.newObjectBuffer}\n",
    "        if oid in newCaps:\n",
    "            cap = newCaps[oid]\n",
    "            self.newObjectBuffer.remove(cap)\n",
    "        memCaps = {cap.oid: cap for cap in self.memory}\n",
    "        if oid in memCaps:\n",
    "            cap = memCaps[oid]\n",
    "            self.memory.remove(cap)\n",
    "        self.lastMemory = {\"deletedObject\": oid}\n",
    "        self.mode = \"passive\"\n",
    "\n",
    "    def isLegal(self, classifiedChange):\n",
    "        return True\n",
    "\n",
    "    def cycle(self):\n",
    "        cycleStart = datetime.utcnow()\n",
    "        minimumClassificationTime = 1\n",
    "        try:\n",
    "            print(f\"Starting Cycle {self.cycleCounter:5} -- {self}\" + '' if self.state != \"action\" else f\" {self.actionState}\")\n",
    "            self.cycleCounter += 1\n",
    "            nextState = \"idle\"\n",
    "            self.hc.capture()\n",
    "            changes = self.referenceFrameDeltas()\n",
    "\n",
    "            if self.mode == \"passive\" or (changes.empty and self.state == \"idle\"):\n",
    "                self.hc.setReference()\n",
    "            elif not changes.empty:\n",
    "                nextState = \"unstable\"\n",
    "                if self.state in [\"unstable\", \"classify\"] and changes == self.lastChanges:  # TODO: and cameraChangeOverlap\n",
    "                    classification = self.classifyChanges(changes)\n",
    "                    nextState = \"classify\"\n",
    "                    if self.state == \"classify\":\n",
    "                        if self.mode in [\"move\", \"action\"]:\n",
    "                            assert not classification.isNewObject, f\"Cannot add objects in {self.mode}\"\n",
    "                            if self.mode == \"move\":\n",
    "                                assert self.isLegal(classification), f\"{classificaton} is an illegal move\"\n",
    "                            elif self.mode == \"action\":\n",
    "                                assert (lastDist := self.cc.rsc.trackedObjectLastDistance(classification)) < self.MM_FOR_MOVE, f\"{classification} moves too far ({lastDist}) for selection\"\n",
    "                                assert self.actionState not in ['roll'], \"Gameboard changed while monitoring for dice roll\"\n",
    "                            \n",
    "                            nextState = \"idle\"\n",
    "                            print(\"Committing classification\")\n",
    "                            self.commitChanges(classification)\n",
    "                            if self.mode == \"action\":\n",
    "                                if len(self.selectedObjects) == 2:\n",
    "                                    self.selectedObjects = [self.lastMemory[\"changedObject\"]]\n",
    "                                    self.actionState = \"sel1\"\n",
    "                                else:\n",
    "                                    self.selectedObjects.append(self.lastMemory[\"changedObject\"])\n",
    "                                    self.actionState = \"sel1\" if len(self.selectedObjects) == 1 else \"confirm\"\n",
    "                                print(f\"Selected Objects: {self.selectedObjects}\")\n",
    "                                self.lastMemory = {\"selectedObject\": self.lastMemory[\"changedObject\"]}\n",
    "                            self.hc.setReference()\n",
    "                        elif self.mode == \"add\":\n",
    "                            nextState = \"idle\"\n",
    "                            self.storeNewObject(classification)\n",
    "                            self.hc.setReference()\n",
    "                        elif self.mode == \"calibrate\":\n",
    "                            try:\n",
    "                                self.calibrateToObject(classification)\n",
    "                            except AssertionError as ae:\n",
    "                                print(f\"Failed Calibration: {ae}\")\n",
    "                            nextState = \"idle\"\n",
    "                            self.hc.setReference()\n",
    "                        else:\n",
    "                            raise Exception(\"Unrecognized State\")\n",
    "                        \n",
    "                    cycleEnd = datetime.utcnow()\n",
    "                    if (cycleTime := (cycleEnd - cycleStart).total_seconds()) < minimumClassificationTime:\n",
    "                        sleep(minimumClassificationTime - cycleTime)\n",
    "            self.state = nextState\n",
    "            self.lastChanges = changes\n",
    "            self.lastClassification = classification\n",
    "        except Exception as e:\n",
    "            from traceback import format_exc\n",
    "            print(\"CYCLE FAILURE!!!\")\n",
    "            print(format_exc())\n",
    "            self.state = \"unstable\"\n",
    "            self.lastChanges = None\n",
    "            self.lastClassification = None\n",
    "            raise"
   ]
  },
  {
   "cell_type": "code",
   "execution_count": null,
   "id": "95e97559-6a02-4140-8f47-5163d2b0ef4c",
   "metadata": {},
   "outputs": [],
   "source": [
    "class MechaCombatMachine(HarmonyMachine):\n",
    "    def __init__(self, config: CalibratedCaptureConfiguration):\n",
    "        super().__init__(config)\n",
    "        mc.qs.reset()\n",
    "        self.factories = mc.ObjectFactories\n",
    "        self.factories[\"Huntsman\"](\"Initializer\", \"Unaligned\")\n",
    "            \n",
    "    def __repr__(self):\n",
    "        return f\"MechaCombat -- {self.mode} - {self.state}\""
   ]
  },
  {
   "cell_type": "code",
   "execution_count": null,
   "id": "e8bd2474-561a-4553-9f87-98a4d1186a70",
   "metadata": {},
   "outputs": [],
   "source": [
    "print(\"Building Harmony Machine\")\n",
    "cc = HarmonyConfiguration()\n",
    "cm = HarmonyMachine(cc)"
   ]
  },
  {
   "cell_type": "code",
   "execution_count": null,
   "id": "caadfede-74a0-41b2-9f71-47b979f6d6ed",
   "metadata": {},
   "outputs": [],
   "source": [
    "#print(f\"Initialing Dice Watcher: {cm.cc.collectDiceRoll()}\")"
   ]
  },
  {
   "cell_type": "code",
   "execution_count": null,
   "id": "9b4cc487-502e-402b-8fd2-636a7a49ecbe",
   "metadata": {},
   "outputs": [],
   "source": [
    "if __name__ == \"__main__\" and False:\n",
    "    cm.cycleForCalibration()\n",
    "    for camName, cons in cc.rsc.converters.items():\n",
    "        if len(cons) == 1:\n",
    "            plt.imshow(cons[0].showUnwarpedImage())\n",
    "        else:\n",
    "            fig, axes = plt.subplots(1, len(cons))\n",
    "            for ax, c in zip(axes, cons):\n",
    "                ax.imshow(c.showUnwarpedImage())\n",
    "        plt.title(f\"{camName} Unwarped\")\n",
    "        plt.show()\n",
    "    cc.saveConfiguration()"
   ]
  },
  {
   "cell_type": "code",
   "execution_count": null,
   "id": "45308c38-132e-475e-a625-d60c4645cac0",
   "metadata": {
    "scrolled": true
   },
   "outputs": [],
   "source": [
    "if __name__ == \"__main__\":\n",
    "    for i in range(3):\n",
    "        cm.cc.capture()\n",
    "    for i in range(2):\n",
    "        print(\"Waiting for object...\")\n",
    "        obj = cm.cycleForAddition()\n",
    "        cm.annotateObject(obj.oid, f\"Foo{i}\", \"Huntsman\")\n",
    "        plt.imshow(obj.visual())\n",
    "        plt.show()"
   ]
  },
  {
   "cell_type": "code",
   "execution_count": null,
   "id": "9f470d6a-78b5-4e29-b1de-64ea9b079453",
   "metadata": {},
   "outputs": [],
   "source": [
    "if __name__ == \"__main__\":\n",
    "    plt.imshow(cm.buildMiniMap())\n",
    "    plt.show()"
   ]
  },
  {
   "cell_type": "code",
   "execution_count": null,
   "id": "57578cd6-4075-43b2-a908-bc76c6919e29",
   "metadata": {},
   "outputs": [],
   "source": [
    "if __name__ == \"__main__\" and False:\n",
    "    for i in range(2):\n",
    "        print(\"Waiting for movement\")\n",
    "        obj = cm.cycleForMove()\n",
    "        plt.imshow(obj.visual())\n",
    "        plt.show()"
   ]
  },
  {
   "cell_type": "code",
   "execution_count": null,
   "id": "dedfdd76-7e3b-413d-9651-83fe91031a9f",
   "metadata": {
    "scrolled": true
   },
   "outputs": [],
   "source": [
    "if __name__ == \"__main__\":\n",
    "    lastMem = cm.cycleForAction()\n",
    "    obj = lastMem['actedOn']\n",
    "    print(obj.actionHistory)\n",
    "    plt.imshow(obj.visual())\n",
    "    plt.show()"
   ]
  },
  {
   "cell_type": "code",
   "execution_count": null,
   "id": "3fd951c3-4501-4d8e-9dbb-d6285efeb532",
   "metadata": {},
   "outputs": [],
   "source": []
  }
 ],
 "metadata": {
  "kernelspec": {
   "display_name": "Python 3 (ipykernel)",
   "language": "python",
   "name": "python3"
  },
  "language_info": {
   "codemirror_mode": {
    "name": "ipython",
    "version": 3
   },
   "file_extension": ".py",
   "mimetype": "text/x-python",
   "name": "python",
   "nbconvert_exporter": "python",
   "pygments_lexer": "ipython3",
   "version": "3.9.2"
  }
 },
 "nbformat": 4,
 "nbformat_minor": 5
}
