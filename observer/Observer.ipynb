{
 "cells": [
  {
   "cell_type": "markdown",
   "id": "e805d4f6-7d3f-4e18-a38f-75ae32455e71",
   "metadata": {},
   "source": [
    "\n",
    "# Observer\n",
    "\n",
    "This Observer notebook monitors USB cameras for changes on the DMA playing field."
   ]
  },
  {
   "cell_type": "code",
   "execution_count": null,
   "id": "12503c2c-c4f8-4484-a10b-cdccccf1cfea",
   "metadata": {
    "tags": []
   },
   "outputs": [],
   "source": [
    "import cv2\n",
    "import numpy as np\n",
    "import imutils\n",
    "from matplotlib import pyplot as plt\n",
    "from pyzbar.pyzbar import decode\n",
    "from math import cos, degrees, radians\n",
    "from time import sleep\n",
    "from datetime import datetime\n",
    "\n",
    "from dataclasses import dataclass\n",
    "%load_ext autotime"
   ]
  },
  {
   "cell_type": "code",
   "execution_count": null,
   "id": "f815113c-9ecd-4483-903e-767a06152342",
   "metadata": {
    "tags": []
   },
   "outputs": [],
   "source": [
    "@dataclass\n",
    "class CamCoordinate:\n",
    "    x: int\n",
    "    y: int\n",
    "    \n",
    "    \n",
    "@dataclass\n",
    "class RealCoordinate:\n",
    "    x: float\n",
    "    y: float"
   ]
  },
  {
   "cell_type": "code",
   "execution_count": null,
   "id": "ae0fc0e2-68b4-445c-a132-c3d033ceeb8d",
   "metadata": {
    "tags": []
   },
   "outputs": [],
   "source": [
    "sr = cv2.dnn_superres.DnnSuperResImpl_create()\n",
    "sr.readModel(\"FSRCNN_x4.pb\")\n",
    "sr.setModel(\"fsrcnn\", 4);\n",
    "\n",
    "\n",
    "def capture_camera(cam_num):\n",
    "    try:\n",
    "        cam = cv2.VideoCapture(cam_num)\n",
    "        retval, image = cam.read()\n",
    "    finally:\n",
    "        cam.release()\n",
    "    retval, buff = cv2.imencode('.jpg', image)\n",
    "    return buff\n",
    "\n",
    "\n",
    "MAX_CAM_ID = 10\n",
    "\n",
    "\n",
    "def identify_usb_cameras(device_numbers=list(range(MAX_CAM_ID))):\n",
    "    functional = []\n",
    "    for dn in device_numbers:\n",
    "        try:\n",
    "            img = capture_camera(dn)\n",
    "            functional.append(dn)\n",
    "        except Exception as e:\n",
    "            continue\n",
    "    return functional"
   ]
  },
  {
   "cell_type": "code",
   "execution_count": null,
   "id": "01f701d3-67f7-40d1-8218-33a6594c0722",
   "metadata": {
    "tags": []
   },
   "outputs": [],
   "source": [
    "identify_usb_cameras()"
   ]
  },
  {
   "cell_type": "code",
   "execution_count": null,
   "id": "d8017224-ca09-4668-9e92-3704e9246435",
   "metadata": {
    "tags": []
   },
   "outputs": [],
   "source": [
    "@dataclass\n",
    "class CalibrationBox:\n",
    "    observedCorners: list[tuple]\n",
    "    observedRect: list\n",
    "    orientation: str\n",
    "    realCoordinate: tuple\n",
    "    \n",
    "    millimetersPerPixel = 5\n",
    "    \n",
    "    def __post_init__(self):\n",
    "        # if oC[1] changes  oC[0]'s y more than it's x, rotate point order\n",
    "        # This tries to normalize the point order from the QR code so the image can be properly rotated\n",
    "        oC0, oC1 = self.observedCorners[:2]\n",
    "        if abs(oC1[0] - oC0[0]) > abs(oC1[1] - oC0[1]):\n",
    "            self.observedCorners = [self.observedCorners[-1], *self.observedCorners[:-1]]\n",
    "        \n",
    "        acceptedOrientations = ['UP', 'LEFT', 'DOWN', 'RIGHT']\n",
    "        assert self.orientation in acceptedOrientations, f\"Unrecognized orientation: {orientation}\"\n",
    "        orientationIdx = acceptedOrientations.index(self.orientation)\n",
    "        self.observedCorners = np.float32(self.observedCorners)\n",
    "        self.cornerOrder = [[0, 1, 2, 3], [3, 0, 1, 2], [2, 3, 0, 1], [1, 2, 3, 0]][orientationIdx]\n",
    "    \n",
    "    @property\n",
    "    def midpoint(self):\n",
    "        x, y, w, h = self.observedRect\n",
    "        return x + w/2, y + h/2\n",
    "\n",
    "    @property\n",
    "    def unwarpedCorners(self):\n",
    "        mpx, mpy = self.realCoordinate\n",
    "        wMod, hMod = 5, 5\n",
    "        cornerModifiers = [(mpx - wMod, mpy - hMod), (mpx - wMod, mpy + hMod), (mpx + wMod, mpy + hMod), (mpx + wMod, mpy - hMod)]\n",
    "        orderedModifiers = [cornerModifiers[idx] for idx in self.cornerOrder]\n",
    "        return np.float32(orderedModifiers)"
   ]
  },
  {
   "cell_type": "code",
   "execution_count": null,
   "id": "213cb2d2-24c4-40a6-981e-9cc14e4238ec",
   "metadata": {
    "tags": []
   },
   "outputs": [],
   "source": [
    "@dataclass\n",
    "class Camera:\n",
    "    camNum: int\n",
    "    activeZone: list\n",
    "    \n",
    "    IMAGE_BUFFER_DEPTH = 2\n",
    "    CAPTURE_FRAMES = 3\n",
    "    xmax = 2560\n",
    "    ymax = 1920\n",
    "    \n",
    "    @property\n",
    "    def mostRecentFrame(self):\n",
    "        return self.imageBuffer[0]\n",
    "\n",
    "    def __post_init__(self):\n",
    "        self.imageBuffer = [None for i in range(self.IMAGE_BUFFER_DEPTH)]\n",
    "        self.imageDeltas = [None for i in range(self.IMAGE_BUFFER_DEPTH)]\n",
    "        self.activeZone =  np.float32(self.activeZone)\n",
    "        self.M = None\n",
    "    \n",
    "    def process(self, image):\n",
    "        M = self.M\n",
    "        activeZone = self.drawActiveZone(image)\n",
    "        activeZone = cv2.circle(activeZone, [425, 450], radius=3, thickness=2, color=(255,0,255))\n",
    "        d1 = cv2.circle(activeZone, [515, 325], radius=3, thickness=2, color=(0,255,255))\n",
    "        dst = cv2.flip(cv2.warpPerspective(d1, M, (self.xmax, self.ymax)), 0)\n",
    "        x = np.zeros((image.shape[0],10,3), np.uint8)\n",
    "        result = np.hstack((activeZone, x, dst))\n",
    "        return dst\n",
    "    \n",
    "    def pointInActiveZone(self, p):\n",
    "        return cv2.pointPolygonTest(self.activeZone, p, False) >= 0\n",
    "    \n",
    "    def calibrationBox(self, calibrationBox: CalibrationBox):\n",
    "        self.M = cv2.getPerspectiveTransform(calibrationBox.observedCorners, calibrationBox.unwarpedCorners)\n",
    "\n",
    "    def convertCameraToRealSpace(self, p):\n",
    "        assert not (self.M is None), \"Must calibrate camera before converting coordinates\"\n",
    "        M = self.M\n",
    "        px = (M[0][0]*p[0] + M[0][1]*p[1] + M[0][2]) / ((M[2][0]*p[0] + M[2][1]*p[1] + M[2][2]))\n",
    "        py = (M[1][0]*p[0] + M[1][1]*p[1] + M[1][2]) / ((M[2][0]*p[0] + M[2][1]*p[1] + M[2][2]))\n",
    "        return (px, py)\n",
    "    \n",
    "    @staticmethod\n",
    "    def distanceFormula(pt0, pt1):\n",
    "        return sum([(b - a)**2 for a, b in zip(pt0, pt1)]) ** 0.5\n",
    "    \n",
    "    def cameraPointsToRealDistance(self, pt0, pt1):\n",
    "        \"\"\" Calculates distance between cam's RealSpace coordinates to distance in mm \"\"\"\n",
    "        ptr0 = cam0.convertCameraToRealSpace(pt0)\n",
    "        ptr1 = cam0.convertCameraToRealSpace(pt1)\n",
    "        return self.distanceFormula(ptr0, ptr1) * CalibrationBox.millimetersPerPixel\n",
    "        \n",
    "    def showUnwarpedImage(self):\n",
    "        warp = cv2.warpPerspective(self.cropToActiveZone(self.imageBuffer[0]), self.M, (1000, 1000))\n",
    "        f, ax = plt.subplots(1, 1, figsize=(10, 10))\n",
    "        ax.imshow(warp)\n",
    "        plt.show()\n",
    "        return warp\n",
    "\n",
    "    def collectImage(self, delay=0.1):\n",
    "        cap = cv2.VideoCapture(self.camNum)\n",
    "        sleep(delay)\n",
    "        image = None\n",
    "        try:\n",
    "            for frame in range(self.CAPTURE_FRAMES):\n",
    "                ret, cv2_im = cap.read()\n",
    "                sleep(delay)\n",
    "            image = sr.upsample(cv2_im)\n",
    "            self.imageBuffer.insert(0, image)\n",
    "            self.imageBuffer.pop()\n",
    "        except Exception as e:\n",
    "            print(f\"Failed to capture Camera: {e}\")\n",
    "        finally:\n",
    "            cap.release()\n",
    "        return image\n",
    "    \n",
    "    @staticmethod\n",
    "    def boxToBasePoint(box):\n",
    "        x, y, w, h = box\n",
    "        return (int(x + w / 2), int(y + h * 0.75))\n",
    "    \n",
    "    def changeBetween(self, im0, im1):\n",
    "        if im0 is None or im1 is None:\n",
    "            return []\n",
    "        img_height = im0.shape[0]\n",
    "        diff = cv2.absdiff(cv2.cvtColor(im0, cv2.COLOR_BGR2GRAY),\n",
    "                           cv2.cvtColor(im1, cv2.COLOR_BGR2GRAY))\n",
    "        thresh = cv2.threshold(diff,64,255,cv2.THRESH_BINARY)[1]\n",
    "        kernel = np.ones((5,5), np.uint8) \n",
    "        dilate = cv2.dilate(thresh, kernel, iterations=2)\n",
    "        contours = cv2.findContours(dilate.copy(), cv2.RETR_EXTERNAL, cv2.CHAIN_APPROX_SIMPLE)\n",
    "        contours = imutils.grab_contours(contours)\n",
    "        boxes = []\n",
    "        for contour in contours:\n",
    "            bRect = cv2.boundingRect(contour)\n",
    "            x, y, w, h = bRect\n",
    "            area = w * h\n",
    "            presumedBasePoint = self.boxToBasePoint((x, y, w, h))\n",
    "            if 10000000 > area > 10000 and self.pointInActiveZone(presumedBasePoint):\n",
    "                boxes.append(cv2.boundingRect(contour))\n",
    "        return boxes\n",
    "    \n",
    "    def captureTransition(self, box):\n",
    "        x, y, w, h = box\n",
    "        before = self.imageBuffer[1][y:y+h, x:x+w]\n",
    "        after = self.imageBuffer[0][y:y+h, x:x+w]\n",
    "        return before, after\n",
    "    \n",
    "    def capture(self):\n",
    "        newImage = self.collectImage()\n",
    "        delta = self.changeBetween(self.imageBuffer[1], newImage)\n",
    "        self.imageDeltas.insert(0, delta)\n",
    "        self.imageDeltas.pop()\n",
    "        transitions = [self.captureTransition(d) for d  in delta]\n",
    "        return newImage, delta, transitions\n",
    "    \n",
    "    def cropToActiveZone(self, image):\n",
    "        pts = np.int32(self.activeZone)\n",
    "        mask = np.zeros(image.shape[:2], np.uint8)\n",
    "        cv2.drawContours(mask, [pts], -1, (255, 255, 255), -1, cv2.LINE_AA)\n",
    "        dst = cv2.bitwise_and(image, image, mask=mask)\n",
    "        return dst\n",
    "        \n",
    "    def drawActiveZone(self, image):\n",
    "        pts = np.int32(self.activeZone)\n",
    "        azOverlaidImage = image.copy()\n",
    "        return cv2.polylines(azOverlaidImage, [pts], isClosed=True, color=(255,0,0), thickness=5)\n",
    "\n",
    "    @classmethod\n",
    "    def drawBoxesOnImage(cls, image, boxes):\n",
    "        imageWithBoxes = image.copy()\n",
    "        for x, y, w, h in boxes:\n",
    "            cv2.rectangle(imageWithBoxes, (x, y), (x+w, y+h), (0,0,255), 2)\n",
    "            presumedBasePoint = cls.boxToBasePoint((x, y, w, h))\n",
    "            cv2.circle(imageWithBoxes, presumedBasePoint, radius=4, thickness=4, color=(0,255,255))\n",
    "            cv2.putText(imageWithBoxes, f'{x}-{x+w}, {y}-{y+w}', (x, y), cv2.FONT_HERSHEY_SIMPLEX, \n",
    "                   1, (255, 0, 0), 2, cv2.LINE_AA)\n",
    "        return imageWithBoxes\n",
    "\n",
    "    def showTransition(self, i0, i1):\n",
    "        changes = self.changeBetween(i0, i1)\n",
    "        return np.hstack((\n",
    "            self.drawBoxesOnImage(i0, changes),\n",
    "            np.zeros((i0.shape[0], 10, 3), np.uint8),\n",
    "            self.drawBoxesOnImage(i1, changes)))\n",
    "    \n",
    "    @staticmethod\n",
    "    def swapBox(srcIm, dstIm, box):\n",
    "        swapped = dstIm.copy()\n",
    "        x, y, w, h = box\n",
    "        orig = srcIm[y:y+h, x:x+w]\n",
    "        swapped[y:y+h, x:x+w] = orig\n",
    "        return swapped\n",
    "        \n",
    "    def showActiveZone(self):\n",
    "        print(self.activeZone)\n",
    "        self.capture()\n",
    "        self.capture()\n",
    "        plt.imshow(self.drawActiveZone(self.mostRecentFrame))\n",
    "        plt.show()"
   ]
  },
  {
   "cell_type": "code",
   "execution_count": null,
   "id": "bf55c5cc-19e3-460d-a33e-f00508e1963c",
   "metadata": {
    "tags": []
   },
   "outputs": [],
   "source": [
    "@dataclass\n",
    "class CaptureObject:\n",
    "    name: str\n",
    "    camBoxes: {int: list[int]}\n",
    "    transition: {int: list[np.ndarray]}\n",
    "    \n",
    "    def camCoordinateMatch(self, coords: {int: CamCoordinate}, wiggle=80) -> bool:\n",
    "        for camNum, coord in coords.items():\n",
    "            x, y = coord.x, coord.y\n",
    "            for camBox in self.camBoxes[camNum]:\n",
    "                capX, capY, _, _ = camBox\n",
    "                if x - wiggle < capX < x + wiggle and y - wiggle < capY < y + wiggle:\n",
    "                    return True\n",
    "        return False\n",
    "    \n",
    "    def update(self, camBoxes, transition):\n",
    "        self.camBoxes = camBoxes\n",
    "        self.transition = transition"
   ]
  },
  {
   "cell_type": "code",
   "execution_count": null,
   "id": "eaee4731-e369-4dfe-ab10-ea7541881908",
   "metadata": {
    "tags": []
   },
   "outputs": [],
   "source": [
    "@dataclass\n",
    "class CaptureConfiguration:\n",
    "    name: str\n",
    "    captureObjects: {str: CaptureObject} = None\n",
    "    roundImages: {str: np.ndarray} = None\n",
    "    \n",
    "    def __post_init__(self):\n",
    "        self.roundCounter = 0\n",
    "        self.captureObjects = {} if self.captureObjects is None else self.captureObjects\n",
    "        self.roundImages = {} if self.roundImages is None else self.roundImages\n",
    "    \n",
    "    def capture(self):\n",
    "        captures = {cam.camNum: cam.capture() for cam in cameras.values()}\n",
    "        return captures\n",
    "    \n",
    "    def processCapture(self, capture):\n",
    "        deltasPerCam = {cN: len(cap[1]) for cN, cap in captures.items()}\n",
    "        assert not any([d > 2 for d in deltasPerCam.values()]), f\"Corrupt Capture\"\n",
    "        if sum(deltasPerCam.values()) / len(cameras) == 1:\n",
    "            # All Cameras observed a single object change -- an addition or deletion or corrupt\n",
    "            pass\n",
    "        if sum(deltasPerCam.values()) / len(cameras) == 2:\n",
    "            # All Cameras observed a double object change -- a move or deletion or corrupt\n",
    "            pass\n",
    "        else:\n",
    "            # One or more cameras observed a single object change, One or more cameras observed a double object change, and/or one or more cameras saw no changes\n",
    "            pass\n",
    "        assert [len(cap) for cap in captures.values()]\n",
    "        \n",
    "    def defineObject(self, name: str, captures):\n",
    "        camBoxes = {camNum: capture[1] for camNum, capture in captures.items()}\n",
    "        camTrans = {camNum: capture[2] for camNum, capture in captures.items()}\n",
    "        self.captureObjects[name] = CaptureObject(name, camBoxes, camTrans)\n",
    "    \n",
    "    def updateObject(self, name: str, camBoxes: {int: list[int]}, transition: {int: list[np.ndarray]}):\n",
    "        self.captureObjects[name].update(camBoxes, transition)\n",
    "\n",
    "    def identifySelectedObject(self, captures):\n",
    "        camCaptures = {cN: [d for d in cap[1]] for cN, cap in captures.items()}\n",
    "        for capObj in self.captureObjects.values():\n",
    "            originMatches = {cN: [] for cN in cameras}\n",
    "            transition = {cN: [None, None] for cN in cameras}\n",
    "            for camNum, (newImage, changeBoxes, transitions) in captures.items():\n",
    "                for bid, box in enumerate(changeBoxes):\n",
    "                    if capObj.camCoordinateMatch({camNum: CamCoordinate(*box[:2])}):\n",
    "                        originMatches[camNum].append(box)\n",
    "                        transition[camNum][0] = transitions[bid]\n",
    "            if sum([len(capObj.camBoxes[cN]) == len(originMatches[cN]) for cN in cameras]) == len(cameras):\n",
    "                return capObj, originMatches, transition\n",
    "        raise Exception(\"Unable to Identify Object to Update\")\n",
    "    \n",
    "    def scanCamsForCalibrationBoxes(self):\n",
    "        return {cam.camNum: (qrs := decode(cam.mostRecentFrame), len(qrs)) for cam in cameras.values()}\n",
    "    \n",
    "    def objectsByBoxOrigin(self, coord: CamCoordinate):\n",
    "        objs = []\n",
    "        for objName, obj in self.captureObjects.items():\n",
    "            if obj.camCoordinateMatch(coord):\n",
    "                objs.append(obj)\n",
    "        return objs\n",
    "    \n",
    "    def drawObjectsOnCam(self, cam, image=None):\n",
    "        img = (cam.imageBuffer[0] if image is None else image).copy()\n",
    "        for obj in self.captureObjects.values():\n",
    "            if cam.camNum in obj.camBoxes:\n",
    "                img = cam.drawBoxesOnImage(img, obj.camBoxes[cam.camNum])\n",
    "        return img\n",
    "        \n",
    "    def showCameras(self):\n",
    "        f, ax = plt.subplots(1, len(cameras), figsize=(20,20))\n",
    "        for a, cam in zip(ax, cameras.values()):\n",
    "            a.imshow(self.drawObjectsOnCam(cam, cam.drawActiveZone(cam.imageBuffer[0])))\n",
    "            a.set_title(f\"Cam{cam.camNum}\")\n",
    "        plt.show()\n",
    "    \n",
    "    def showCamsUnwarped(self, cams=None):\n",
    "        cams = cams if cams is not None else list(cameras.values())\n",
    "        f, ax = plt.subplots(1, len(cams), figsize=(10, 10))\n",
    "        altogether = None\n",
    "        for axes, cam in zip(ax, cams):\n",
    "            warp = cv2.warpPerspective(cam.cropToActiveZone(cam.mostRecentFrame), cam.M, (1000, 1000))\n",
    "            altogether = cv2.addWeighted(altogether, 0.5, warp, 0.5, 0) if altogether is not None else warp\n",
    "            axes.imshow(warp)\n",
    "            axes.set_title(f\"Cam{cam.camNum}\")\n",
    "        plt.show()\n",
    "        f, ax = plt.subplots(1, 1, figsize=(10, 10))\n",
    "        plt.imshow(altogether)\n",
    "        plt.show()\n",
    "        \n",
    "    def showCameraDelta(self, initial=1, final=0):\n",
    "        camImages = []\n",
    "        for cam in cameras.values():\n",
    "            changes = cam.changeBetween(cam.imageBuffer[initial], cam.imageBuffer[final])\n",
    "            camImages.append(cam.drawActiveZone(cam.drawBoxesOnImage(cam.imageBuffer[final], changes)))\n",
    "        f, ax = plt.subplots(1, len(cameras), figsize=(20, 20))\n",
    "        for a, cam, ci in zip(ax, cameras.values(), camImages):\n",
    "            a.imshow(ci)\n",
    "            a.set_title(f\"Cam{cam.camNum}\")\n",
    "        plt.show()\n",
    "    \n",
    "    def calibrate(self, calibrationBoxRealCoordinates={0: [500 + (110 / 5), 500 - (160 / 5)], 2: [500 + (110 / 5), 500 - (160 / 5)], 4: [500, 500]}):\n",
    "        self.capture()\n",
    "        decodes = cc.scanCamsForCalibrationBoxes()\n",
    "        for camNum, (decodes, numDecodes) in decodes.items():\n",
    "            cam = cameras[camNum]\n",
    "            cam.calibrationBox(CalibrationBox(dec.polygon, decodes[0].rect, dec.orientation, calibrationBoxRealCoordinates[camNum]))\n",
    "    \n",
    "    def debugCapture(self):\n",
    "        captures = self.capture()\n",
    "        print({cam: [d for d in camCap[1]] for cam, camCap in captures.items()})\n",
    "        self.showCameraDelta()\n",
    "        return captures"
   ]
  },
  {
   "cell_type": "markdown",
   "id": "1713b068-e5a2-4c0c-a9cf-60e0061af3c1",
   "metadata": {},
   "source": [
    "# Execution\n",
    "\n",
    "## Initialization"
   ]
  },
  {
   "cell_type": "code",
   "execution_count": null,
   "id": "0241622d-c1f3-487e-9625-abf8ce2d0204",
   "metadata": {
    "tags": []
   },
   "outputs": [],
   "source": [
    "cam0 = Camera(\n",
    "    camNum=0,\n",
    "    activeZone=[[600, 1910], [2400, 1910], [1800, 500], [700, 600]])\n",
    "\n",
    "cam2 = Camera(\n",
    "    camNum=2,\n",
    "    activeZone=[[100, 1910], [700, 750], [1875, 750], [1925, 1910]])\n",
    "\n",
    "cam4 = Camera(\n",
    "    camNum=4,\n",
    "    activeZone=[[700, 1910], [2550, 1910], [2550, 1750], [1700, 600], [600, 700]])"
   ]
  },
  {
   "cell_type": "code",
   "execution_count": null,
   "id": "16e5a3b6-10c5-490d-84ba-17ab75507356",
   "metadata": {
    "tags": []
   },
   "outputs": [],
   "source": [
    "cameras = {0: cam0, 2: cam2, 4: cam4}"
   ]
  },
  {
   "cell_type": "code",
   "execution_count": null,
   "id": "2328f428-b048-4c6a-89c6-6dc1ce0282c3",
   "metadata": {
    "tags": []
   },
   "outputs": [],
   "source": [
    "cc = CaptureConfiguration(\"foo\", {})"
   ]
  },
  {
   "cell_type": "code",
   "execution_count": null,
   "id": "195a0461-58e4-465d-8765-e6b3718af771",
   "metadata": {
    "tags": []
   },
   "outputs": [],
   "source": [
    "cc.debugCapture()"
   ]
  },
  {
   "cell_type": "markdown",
   "id": "cf797297-c232-439a-b3d2-ccfb5079760e",
   "metadata": {},
   "source": [
    "## Calibration\n",
    "\n",
    "Place Calibration Boxes on playing field and capture field state. Pyzbar is used to locate the Calibration Boxes in the image. Once located, these portions of the image allow Observer to warp the image into normalized 2D playing board.\n",
    "\n",
    "* Place the Origin somewhere ~300 pixels away from the game board's real origin to center space."
   ]
  },
  {
   "cell_type": "code",
   "execution_count": null,
   "id": "e676b42b-ac42-4b08-9319-0a49ea49e6ad",
   "metadata": {},
   "outputs": [],
   "source": [
    "cc.debugCapture()\n",
    "cc.scanCamsForCalibrationBoxes()"
   ]
  },
  {
   "cell_type": "code",
   "execution_count": null,
   "id": "bf08320f-af2b-4af9-9bcd-529ebc1bafcc",
   "metadata": {
    "tags": []
   },
   "outputs": [],
   "source": [
    "cc.calibrate()\n",
    "cc.showCamsUnwarped()"
   ]
  },
  {
   "cell_type": "markdown",
   "id": "3a881cde-09e6-4374-83f8-3f2e4bd60c01",
   "metadata": {},
   "source": [
    "## Structure Population\n",
    "\n",
    "With all camera spaces calibrated, objects can be added to the game board."
   ]
  },
  {
   "cell_type": "code",
   "execution_count": null,
   "id": "c4a55271-1ddc-4e32-bdc1-cd83ba2de23e",
   "metadata": {},
   "outputs": [],
   "source": [
    "captures = cc.debugCapture()"
   ]
  },
  {
   "cell_type": "code",
   "execution_count": null,
   "id": "51e76769-6ab5-48b0-8057-8fb790e300e9",
   "metadata": {
    "tags": []
   },
   "outputs": [],
   "source": [
    "cc.defineObject(\"warehouse\", captures)"
   ]
  },
  {
   "cell_type": "code",
   "execution_count": null,
   "id": "6f3df096-ac59-424d-8d18-81afe932bf82",
   "metadata": {},
   "outputs": [],
   "source": [
    "captures = cc.debugCapture()"
   ]
  },
  {
   "cell_type": "code",
   "execution_count": null,
   "id": "18021012-4f51-498f-a166-740e2e5c7496",
   "metadata": {
    "tags": []
   },
   "outputs": [],
   "source": [
    "cc.defineObject(\"generator\", captures)"
   ]
  },
  {
   "cell_type": "code",
   "execution_count": null,
   "id": "726a562b-b555-4a6e-9336-180d1f717261",
   "metadata": {},
   "outputs": [],
   "source": [
    "captures = cc.debugCapture()"
   ]
  },
  {
   "cell_type": "code",
   "execution_count": null,
   "id": "5caf9bc4-b2b0-42dd-aff8-54d06fa40907",
   "metadata": {
    "tags": []
   },
   "outputs": [],
   "source": [
    "cc.defineObject(\"factory\", captures)"
   ]
  },
  {
   "cell_type": "code",
   "execution_count": null,
   "id": "03ea9b92-8c1d-4cec-9717-82751d8bd19d",
   "metadata": {},
   "outputs": [],
   "source": [
    "captures = cc.debugCapture()"
   ]
  },
  {
   "cell_type": "code",
   "execution_count": null,
   "id": "4bb8a594-e0ec-40c6-bad0-7246a8b338f7",
   "metadata": {
    "tags": []
   },
   "outputs": [],
   "source": [
    "cc.defineObject(\"jaguar\", captures)"
   ]
  },
  {
   "cell_type": "code",
   "execution_count": null,
   "id": "85471bfd-f67a-4318-99cf-351ab962a63c",
   "metadata": {},
   "outputs": [],
   "source": [
    "captures = cc.debugCapture()"
   ]
  },
  {
   "cell_type": "code",
   "execution_count": null,
   "id": "68a8a1f9-1bb8-4315-95db-9d37e1ad63b4",
   "metadata": {
    "tags": []
   },
   "outputs": [],
   "source": [
    "cc.defineObject(\"crossbow\", captures)"
   ]
  },
  {
   "cell_type": "code",
   "execution_count": null,
   "id": "cdacafb3-5585-4231-8381-191bf725745a",
   "metadata": {},
   "outputs": [],
   "source": [
    "captures = cc.debugCapture()"
   ]
  },
  {
   "cell_type": "code",
   "execution_count": null,
   "id": "51820a3a-bd29-41ce-8545-c82fc036c54c",
   "metadata": {
    "tags": []
   },
   "outputs": [],
   "source": [
    "cc.defineObject(\"turkina\", captures)"
   ]
  },
  {
   "cell_type": "markdown",
   "id": "dbd6dbf3-2503-44e9-866e-81b2548ba7cb",
   "metadata": {},
   "source": [
    "## LET PLAY BEGIN! -- Movement Round 1\n",
    "\n",
    "### Movement 1"
   ]
  },
  {
   "cell_type": "code",
   "execution_count": null,
   "id": "2fa25731-3610-45b2-93d0-0f863cab5a15",
   "metadata": {
    "tags": []
   },
   "outputs": [],
   "source": [
    "cc.showCameras()"
   ]
  },
  {
   "cell_type": "markdown",
   "id": "94453160-03ef-4b31-8f1b-2c9c8eceb480",
   "metadata": {},
   "source": [
    "#### Mech Selection"
   ]
  },
  {
   "cell_type": "code",
   "execution_count": null,
   "id": "a4b1b366-daa7-419c-9fdf-56393aeb16a7",
   "metadata": {},
   "outputs": [],
   "source": [
    "selectionCaptures = cc.debugCapture()"
   ]
  },
  {
   "cell_type": "code",
   "execution_count": null,
   "id": "ccfd9d47-578f-4f4c-ac2f-9406adeceb09",
   "metadata": {
    "tags": []
   },
   "outputs": [],
   "source": [
    "resp = cc.identifySelectedObject(selectionCaptures)\n",
    "resp[0].name\n",
    "startingPoints = [cameras[cam].convertCameraToRealSpace(Camera.boxToBasePoint(camCap[1][0])) for cam, camCap in selectionCaptures.items()]\n",
    "startingPoints"
   ]
  },
  {
   "cell_type": "markdown",
   "id": "1aaf3a83-9449-4048-b80c-dc6cbb2b900f",
   "metadata": {
    "tags": []
   },
   "source": [
    "#### Mech Placement"
   ]
  },
  {
   "cell_type": "code",
   "execution_count": null,
   "id": "52f33e35-37d3-4953-a61f-fc93b3c4597b",
   "metadata": {},
   "outputs": [],
   "source": [
    "placementCaptures = cc.debugCapture()"
   ]
  },
  {
   "cell_type": "code",
   "execution_count": null,
   "id": "2dcb2e8d-21fe-4dfb-808b-997c2c4b4237",
   "metadata": {
    "tags": []
   },
   "outputs": [],
   "source": [
    "endingPoints = [cameras[cam].convertCameraToRealSpace(Camera.boxToBasePoint(camCap[1][0])) for cam, camCap in placementCaptures.items()]\n",
    "print(f\"Estimated Placement Coordinates: {endingPoints}\")\n",
    "avgDistanceEstimate = sum(distances := [\n",
    "    Camera.distanceFormula(sP, eP) * CalibrationBox.millimetersPerPixel\n",
    "    for eP in endingPoints\n",
    "    for sP in startingPoints]) / len(distances)\n",
    "print(f\"Average Distance Estimate: {avgDistanceEstimate}\")\n",
    "_, changeBoxes, transitions = zip(*placementCaptures.values())\n",
    "cc.updateObject(resp[0].name, changeBoxes, transitions)"
   ]
  },
  {
   "cell_type": "code",
   "execution_count": null,
   "id": "41cbd9ed-7e0f-4285-b459-a10ec7880abc",
   "metadata": {},
   "outputs": [],
   "source": []
  }
 ],
 "metadata": {
  "kernelspec": {
   "display_name": "Python 3 (ipykernel)",
   "language": "python",
   "name": "python3"
  },
  "language_info": {
   "codemirror_mode": {
    "name": "ipython",
    "version": 3
   },
   "file_extension": ".py",
   "mimetype": "text/x-python",
   "name": "python",
   "nbconvert_exporter": "python",
   "pygments_lexer": "ipython3",
   "version": "3.9.2"
  }
 },
 "nbformat": 4,
 "nbformat_minor": 5
}
