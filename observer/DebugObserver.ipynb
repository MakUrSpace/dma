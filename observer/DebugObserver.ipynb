{
 "cells": [
  {
   "cell_type": "code",
   "execution_count": 1,
   "id": "ea93604b-af99-45a5-a708-c97f062edaed",
   "metadata": {
    "tags": []
   },
   "outputs": [],
   "source": [
    "from ipynb.fs.full.Observer import *"
   ]
  },
  {
   "cell_type": "code",
   "execution_count": 2,
   "id": "b2c12c98-bfb7-4e5a-b600-4884647ce816",
   "metadata": {},
   "outputs": [],
   "source": [
    "class DebugMachine(CaptureMachine):\n",
    "    \"\"\" Camera Capture State Machine, primary loop:\n",
    "                                 {on interaction detection} --> (interaction)            \n",
    "                                 /                                      |\n",
    "                __init__ ---> (idle)                                    V\n",
    "                                  ^------- (observation) <--------- (debounce)\n",
    "            \n",
    "    \"\"\"\n",
    "    states = [\"idle\", \"interaction\", \"debounce\", \"observation\", \"error\"]\n",
    "    mode = [\"terrain\", \"add_unit\", \"move_unit\"]\n",
    "    observationThreshold = 3\n",
    "    def __init__(self, captureConfiguration: CaptureConfiguration):\n",
    "        self.cc = captureConfiguration\n",
    "        self.mode = \"unit\"\n",
    "        self.cc.capture()\n",
    "        self.cc.setBase()\n",
    "        self.cc.setReference()\n",
    "        self.state = \"idle\"\n",
    "        self.interactionDetected = False\n",
    "        self.nextState = self.next_state()\n",
    "        self.debounceCounter = 0\n",
    "        self.cycleCounter = 0\n",
    "        self.changes = {}\n",
    "        self.memory = CaptureMemory()\n",
    "        self.buildPrimeReference()\n",
    "        self.lastChanges = None\n",
    "        \n",
    "    def __repr__(self):\n",
    "        return f\"CapMac -- {self.state}\\nMode: {self.mode}\\nID: {self.interactionDetected} | DC: {self.debounceCounter}\"\n",
    "    \n",
    "    def interactionDetection(self):\n",
    "        detections = {cam.camNum: cam.interactionDetection(cam.mostRecentFrame) for cam in cameras.values()}\n",
    "        return sum(detections.values()) > 0\n",
    "\n",
    "    def buildPrimeReference(self):\n",
    "        self.cc.capture()\n",
    "        self.primeReference = {camNum: cameras[camNum].mostRecentFrame for camNum in cameras}\n",
    "    \n",
    "    def updateReference(self):\n",
    "        self.cc.setReference()\n",
    "        \n",
    "    def referenceFrameDeltas(self):\n",
    "        return {camNum: cam.referenceFrameDelta() for camNum, cam in cameras.items()}\n",
    "    \n",
    "    def cycle(self):\n",
    "        print(f\"Starting Cycle {self.cycleCounter} -- S:{self.state}\")\n",
    "        self.cycleCounter += 1\n",
    "        self.cc.capture()\n",
    "        changes = self.referenceFrameDeltas()\n",
    "        if sum([change is not None for change in changes.values()]):\n",
    "            if changes == self.lastChanges:\n",
    "                print(f\"Stable changes. Committing {changes}!\")\n",
    "                for camNum, change in changes.items():\n",
    "                    cameras[camNum].commitChange(change)\n",
    "                self.cc.setReference()\n",
    "            else:\n",
    "                print(\"Unstable changes\")\n",
    "                self.lastChanges = changes\n",
    "        else:\n",
    "            print(\"No changes\")"
   ]
  },
  {
   "cell_type": "code",
   "execution_count": 3,
   "id": "0028f60f-63ce-428c-b4e4-b4108fd79934",
   "metadata": {
    "tags": []
   },
   "outputs": [
    {
     "name": "stdout",
     "output_type": "stream",
     "text": [
      "Saw interaction? False\n"
     ]
    }
   ],
   "source": [
    "cm = DebugMachine(cc)\n",
    "cm.cc.setReference()"
   ]
  },
  {
   "cell_type": "code",
   "execution_count": 18,
   "id": "ce8283e2-bf03-4e19-8233-dfa558d91ca4",
   "metadata": {
    "tags": []
   },
   "outputs": [
    {
     "name": "stdout",
     "output_type": "stream",
     "text": [
      "Starting Cycle 13 -- S:idle\n",
      "Stable changes. Committing {0: [606.0, 831.0] by 66.0,70.0, 2: [587.0, 1240.0] by 63.0,75.0, 4: [726.0, 805.0] by 71.0,75.0}!\n",
      "Deleting [605.0, 831.0] by 66.0,69.0\n",
      "Deleting [588.0, 1242.0] by 66.0,76.0\n",
      "Deleting [726.0, 807.0] by 80.0,74.0\n"
     ]
    }
   ],
   "source": [
    "if __name__ == \"__main__\":\n",
    "    cm.cycle()"
   ]
  },
  {
   "cell_type": "code",
   "execution_count": 19,
   "id": "467c272a-8984-4043-8e0b-78134adc2227",
   "metadata": {
    "tags": []
   },
   "outputs": [
    {
     "data": {
      "text/plain": [
       "[]"
      ]
     },
     "execution_count": 19,
     "metadata": {},
     "output_type": "execute_result"
    }
   ],
   "source": [
    "cameras[0].changes"
   ]
  },
  {
   "cell_type": "code",
   "execution_count": null,
   "id": "1d3a2483-1fb1-4acb-ba67-7aa80b60fbb0",
   "metadata": {},
   "outputs": [],
   "source": []
  }
 ],
 "metadata": {
  "kernelspec": {
   "display_name": "Python 3 (ipykernel)",
   "language": "python",
   "name": "python3"
  },
  "language_info": {
   "codemirror_mode": {
    "name": "ipython",
    "version": 3
   },
   "file_extension": ".py",
   "mimetype": "text/x-python",
   "name": "python",
   "nbconvert_exporter": "python",
   "pygments_lexer": "ipython3",
   "version": "3.9.2"
  }
 },
 "nbformat": 4,
 "nbformat_minor": 5
}
