{
 "cells": [
  {
   "cell_type": "code",
   "execution_count": 1,
   "id": "8b9b9122-16a4-42a2-8697-3803cd07ccca",
   "metadata": {},
   "outputs": [],
   "source": [
    "from dataclasses import dataclass, asdict\n",
    "from functools import partial"
   ]
  },
  {
   "cell_type": "code",
   "execution_count": 2,
   "id": "bd6258e7-4408-4fd5-a46e-e4673399b4c2",
   "metadata": {},
   "outputs": [],
   "source": [
    "from ipynb.fs.full.quantumsystem import *"
   ]
  },
  {
   "cell_type": "code",
   "execution_count": 3,
   "id": "8a160dba-0f78-452a-94a1-9b1aae0cd13a",
   "metadata": {},
   "outputs": [],
   "source": [
    "from ipynb.fs.full.MovementSystem import *"
   ]
  },
  {
   "cell_type": "code",
   "execution_count": 4,
   "id": "cec31d89-34f1-4268-932c-25957ef9630a",
   "metadata": {},
   "outputs": [],
   "source": [
    "from ipynb.fs.full.DamageSystem import *"
   ]
  },
  {
   "cell_type": "code",
   "execution_count": 5,
   "id": "4159ad6f-2afb-44f5-bbf2-3abd730b4b3d",
   "metadata": {},
   "outputs": [],
   "source": [
    "from ipynb.fs.full.WeaponsSystem import *"
   ]
  },
  {
   "cell_type": "code",
   "execution_count": 6,
   "id": "abff0cf7-c867-431c-b480-f4237e2056d6",
   "metadata": {},
   "outputs": [],
   "source": [
    "qs.quantum_system_name = \"MechaCombatSystem\""
   ]
  },
  {
   "cell_type": "code",
   "execution_count": 7,
   "id": "6d9f732d-cd40-4e59-bb04-52fbabada4b5",
   "metadata": {},
   "outputs": [],
   "source": [
    "class SizeSystem(QuantumSystem.System):\n",
    "    edge_name = \"size\""
   ]
  },
  {
   "cell_type": "code",
   "execution_count": 8,
   "id": "1b694a91-0a5f-4c58-96bd-8b8881cabb94",
   "metadata": {},
   "outputs": [],
   "source": [
    "class SpecialSystem(QuantumSystem.System):\n",
    "    edge_name = \"special\""
   ]
  },
  {
   "cell_type": "code",
   "execution_count": 9,
   "id": "97364d0d-dca0-41a3-bf38-6ce581f7f075",
   "metadata": {},
   "outputs": [],
   "source": [
    "class Structure(QuantumSystem.HyperSystem):\n",
    "    systems = [Location, ArmorSystem]\n",
    "    \n",
    "    @classmethod\n",
    "    def height(cls, structureId):\n",
    "        return 5"
   ]
  },
  {
   "cell_type": "code",
   "execution_count": 10,
   "id": "ce52238b-1db6-4b16-bf84-b83a9d03d8e6",
   "metadata": {},
   "outputs": [],
   "source": [
    "class MechTypeSystem(QuantumSystem.System):\n",
    "    edge_name = \"mech_type\"\n",
    "\n",
    "class MechModelSystem(QuantumSystem.System):\n",
    "    edge_name = \"mech_model\"\n",
    "\n",
    "class MechRoleSystem(QuantumSystem.System):\n",
    "    edge_name = \"mech_role\"\n",
    "    \n",
    "class PointValueSystem(QuantumSystem.System):\n",
    "    edge_name = \"point_value\"\n",
    "    \n",
    "class MechDefinitionSystem(QuantumSystem.HyperSystem):\n",
    "    systems = [MechTypeSystem, MechModelSystem, MechRoleSystem, SizeSystem, SpecialSystem, PointValueSystem]"
   ]
  },
  {
   "cell_type": "code",
   "execution_count": 11,
   "id": "8288d931-426c-43c1-90ee-d381247f25f4",
   "metadata": {},
   "outputs": [],
   "source": [
    "class UnitSystem(QuantumSystem.HyperSystem):\n",
    "    systems = [MoveSystem, Weapons, UnitDamageSystem]\n",
    "\n",
    "class MechSystem(QuantumSystem.HyperSystem):\n",
    "    systems = [UnitSystem, MechDefinitionSystem]\n",
    "    \n",
    "    @classmethod\n",
    "    def buildMechFactory(cls, systemDefaults):\n",
    "        return partial(\n",
    "            cls.build_system,\n",
    "            terminants=systemDefaults)\n",
    "    \n",
    "@dataclass\n",
    "class Mech(QuantumSystem.Entity):\n",
    "    \"\"\" TODO \"\"\"\n"
   ]
  },
  {
   "cell_type": "code",
   "execution_count": 12,
   "id": "f949651c-12b3-4687-81c7-d2ce7b9e0026",
   "metadata": {},
   "outputs": [],
   "source": [
    "kingfisherFactory = MechSystem.buildMechFactory([\n",
    "    [   # Unit System\n",
    "        [  # Move System\n",
    "            json.dumps([3, 3, 0]), \"8j\"\n",
    "        ],\n",
    "        [  # Weapons System\n",
    "            [[\"0\", \"5\"]], [[\"2\", \"3\"]], [[\"5\", \"1\"]], \"1\", \"3\"\n",
    "        ],\n",
    "        [  # Unit Damage System\n",
    "            [\"9\", \"7\"], [\"1\", \"4\", \"5\", \"6\"]\n",
    "        ]\n",
    "    ],\n",
    "    [  # Mech Definition System\n",
    "        \"BM\", \"Kingfisher Prime\", \"Brawler\", \"4\", json.dumps([\"OMNI\", \"CASE\", \"IF01\"]), \"54\"\n",
    "    ]\n",
    "])\n",
    "\n",
    "MechFactories = [kingfisherFactory]"
   ]
  },
  {
   "cell_type": "code",
   "execution_count": 13,
   "id": "3d48ae1b-cb35-41b1-a559-10efe4af3bfb",
   "metadata": {},
   "outputs": [],
   "source": [
    "if __name__ == \"__main__\":\n",
    "    qs.reset()\n",
    "    kingfisherFactory(\"Gypsy Danger\")"
   ]
  },
  {
   "cell_type": "code",
   "execution_count": 14,
   "id": "4adf3477-e829-463d-959c-5bb439a50653",
   "metadata": {},
   "outputs": [],
   "source": [
    "if __name__ == \"__main__\":\n",
    "    MoveSystem.move(\"Gypsy Danger\", [1, 1, 1])"
   ]
  },
  {
   "cell_type": "code",
   "execution_count": 15,
   "id": "363acbf8-36f1-4ffb-9591-6b12fb19e49c",
   "metadata": {},
   "outputs": [
    {
     "name": "stdout",
     "output_type": "stream",
     "text": [
      "Received: Cannot move unit further (15.066519173319364) than its movement speed (8)\n",
      "Received: Movement relationship not found on Apartment\n"
     ]
    }
   ],
   "source": [
    "if __name__ == \"__main__\":\n",
    "    try:\n",
    "        MoveSystem.move(\"Gypsy Danger\", [15, 1, 1])\n",
    "    except AssertionError as ae:\n",
    "        print(f\"Received: {ae}\")\n",
    "\n",
    "    try:\n",
    "        MoveSystem.move(\"Apartment\", [1, 0, 0])\n",
    "    except Exception as e:\n",
    "        print(f\"Received: {e}\")"
   ]
  },
  {
   "cell_type": "code",
   "execution_count": null,
   "id": "b5f1bd82-c11b-42d3-8ba7-bf61d8474479",
   "metadata": {},
   "outputs": [],
   "source": []
  }
 ],
 "metadata": {
  "kernelspec": {
   "display_name": "Python 3 (ipykernel)",
   "language": "python",
   "name": "python3"
  },
  "language_info": {
   "codemirror_mode": {
    "name": "ipython",
    "version": 3
   },
   "file_extension": ".py",
   "mimetype": "text/x-python",
   "name": "python",
   "nbconvert_exporter": "python",
   "pygments_lexer": "ipython3",
   "version": "3.9.2"
  }
 },
 "nbformat": 4,
 "nbformat_minor": 5
}
