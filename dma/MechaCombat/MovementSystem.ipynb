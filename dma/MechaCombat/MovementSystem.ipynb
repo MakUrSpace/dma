{
 "cells": [
  {
   "cell_type": "code",
   "execution_count": 1,
   "id": "8366b8ae-a550-480a-b9aa-acf75cd3db87",
   "metadata": {},
   "outputs": [],
   "source": [
    "import json"
   ]
  },
  {
   "cell_type": "code",
   "execution_count": 2,
   "id": "eba7b8da-29ca-40dd-b2d4-9e5b55f1a1c4",
   "metadata": {},
   "outputs": [],
   "source": [
    "from ipynb.fs.full.quantumsystem import QuantumSystem, qs"
   ]
  },
  {
   "cell_type": "code",
   "execution_count": 3,
   "id": "1521bd35-f41f-48dc-ae06-c8fa03c986e6",
   "metadata": {},
   "outputs": [],
   "source": [
    "class Location(QuantumSystem.System):\n",
    "    @classmethod\n",
    "    def get_location(cls, node_id):\n",
    "        return json.loads(super().get_relationship(node_id))\n",
    "\n",
    "    @classmethod\n",
    "    def set_location(cls, node_id, location):\n",
    "        old_value = super().get_relationship(node_id)\n",
    "        QuantumSystem.replace(node_id, cls.__name__, old_value, json.dumps(location))\n",
    "        return json.loads(super().get_relationship(node_id))\n",
    "    \n",
    "    @classmethod\n",
    "    def origin(cls):\n",
    "        return (0, 0, 0)"
   ]
  },
  {
   "cell_type": "code",
   "execution_count": 4,
   "id": "e4fc095e-a95f-42ad-a2be-e61e564c0bf0",
   "metadata": {},
   "outputs": [],
   "source": [
    "class Movement(QuantumSystem.System):\n",
    "    @classmethod\n",
    "    def has_jump_jets(cls, unit):\n",
    "        return cls.get_relationship(unit)[-1] == 'j'\n",
    "    \n",
    "    @classmethod\n",
    "    def get_movement_speed(cls, unit):\n",
    "        movement = cls.get_relationship(unit)\n",
    "        return int(movement[:-1]) if movement[-1] == 'j' else int(movement)"
   ]
  },
  {
   "cell_type": "code",
   "execution_count": 5,
   "id": "f670389b-5619-4e03-9832-dfe66a35ed38",
   "metadata": {},
   "outputs": [],
   "source": [
    "class MoveSystem(QuantumSystem.HyperSystem):\n",
    "    systems = [Location, Movement]\n",
    "    \n",
    "    @classmethod\n",
    "    def move(cls, unit, delta):\n",
    "        movementSpeed = Movement.get_movement_speed(unit)\n",
    "        startingLocation = Location.get_relationship(unit)\n",
    "        deltaDistance = sum([d * d for d in delta]) ** 0.5\n",
    "        assert deltaDistance < movementSpeed, f\"Cannot move unit further ({deltaDistance}) than its movement speed ({movementSpeed})\"\n",
    "        newLocation = [sL + lD for sL, lD in zip(json.loads(startingLocation), delta)]\n",
    "        QuantumSystem.replace(unit, Location, startingLocation, json.dumps(newLocation))"
   ]
  },
  {
   "cell_type": "code",
   "execution_count": 6,
   "id": "a2e8cca4-59a4-4dbf-9efe-3cb63306a362",
   "metadata": {},
   "outputs": [],
   "source": [
    "if __name__ == \"__main__\":\n",
    "    qs.reset()\n",
    "    MoveSystem.build_system(\"foo\", [json.dumps([1, 1, 1]), \"8j\"])\n",
    "    qs.render()"
   ]
  },
  {
   "cell_type": "code",
   "execution_count": 7,
   "id": "dbc56cf4-63ea-48e4-b585-68b9177d61fd",
   "metadata": {},
   "outputs": [],
   "source": [
    "if __name__ == \"__main__\":\n",
    "    MoveSystem.move(\"foo\", [3, 2, 1])\n",
    "    qs.render()"
   ]
  }
 ],
 "metadata": {
  "kernelspec": {
   "display_name": "Python 3 (ipykernel)",
   "language": "python",
   "name": "python3"
  },
  "language_info": {
   "codemirror_mode": {
    "name": "ipython",
    "version": 3
   },
   "file_extension": ".py",
   "mimetype": "text/x-python",
   "name": "python",
   "nbconvert_exporter": "python",
   "pygments_lexer": "ipython3",
   "version": "3.9.2"
  }
 },
 "nbformat": 4,
 "nbformat_minor": 5
}
