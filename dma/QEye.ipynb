{
 "cells": [
  {
   "cell_type": "code",
   "execution_count": 2,
   "id": "319c2b93-ea6e-40e6-bc74-cdce4ebf0cdd",
   "metadata": {},
   "outputs": [],
   "source": [
    "def capture():\n",
    "    \"\"\" Capture new image from camera \"\"\"\n",
    "    return None"
   ]
  },
  {
   "cell_type": "code",
   "execution_count": null,
   "id": "3ab44d9c-43e1-40b1-9826-d8d1df0ad260",
   "metadata": {},
   "outputs": [],
   "source": [
    "def processImage():\n",
    "    \"\"\" Process image to recognize units and their positions \"\"\"\n",
    "    return [{\"unitType\": \"Abio\", \"location\": [1, 2, 3]}, {\"unitType\": \"Neph\", \"location\": [4, 5, 6]}, ]"
   ]
  }
 ],
 "metadata": {
  "kernelspec": {
   "display_name": "Python 3 (ipykernel)",
   "language": "python",
   "name": "python3"
  },
  "language_info": {
   "codemirror_mode": {
    "name": "ipython",
    "version": 3
   },
   "file_extension": ".py",
   "mimetype": "text/x-python",
   "name": "python",
   "nbconvert_exporter": "python",
   "pygments_lexer": "ipython3",
   "version": "3.8.10"
  }
 },
 "nbformat": 4,
 "nbformat_minor": 5
}
