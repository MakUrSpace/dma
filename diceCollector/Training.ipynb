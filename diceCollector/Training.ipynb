{
 "cells": [
  {
   "cell_type": "code",
   "execution_count": 32,
   "id": "c8cbe763-9902-4a90-aed9-dbaa47bd5cb7",
   "metadata": {},
   "outputs": [],
   "source": [
    "from random import sample"
   ]
  },
  {
   "cell_type": "code",
   "execution_count": 18,
   "id": "9df1f523-3895-4afa-bd80-1ff188287e7e",
   "metadata": {},
   "outputs": [
    {
     "data": {
      "text/plain": [
       "539.0"
      ]
     },
     "execution_count": 18,
     "metadata": {},
     "output_type": "execute_result"
    }
   ],
   "source": [
    "f = !ls captures\n",
    "len(f) / 2"
   ]
  },
  {
   "cell_type": "code",
   "execution_count": 23,
   "id": "542c2a95-2665-4869-972a-655576f66411",
   "metadata": {},
   "outputs": [
    {
     "data": {
      "text/plain": [
       "dict_keys([1, 2, 3, 4, 5, 6])"
      ]
     },
     "execution_count": 23,
     "metadata": {},
     "output_type": "execute_result"
    }
   ],
   "source": [
    "classFiles.keys()"
   ]
  },
  {
   "cell_type": "code",
   "execution_count": 25,
   "id": "488592c9-1773-4877-806c-c517fb199868",
   "metadata": {},
   "outputs": [],
   "source": [
    "classFiles = {str(i): [] for i in range(1, 7)}\n",
    "for i in f:\n",
    "    if \".txt\" not in i:\n",
    "        continue\n",
    "    with open(f\"captures/{i}\", \"r\") as fh:\n",
    "        ant = fh.read()\n",
    "    classes = [ln.split(\" \")[0] for ln in ant.split(\"\\n\") if ln != '']\n",
    "    for c in set(classes):\n",
    "        if c == '':\n",
    "            continue\n",
    "        classFiles[c].append(i)"
   ]
  },
  {
   "cell_type": "code",
   "execution_count": 37,
   "id": "a24c9fe3-144b-4b05-b464-a01c60d7c85e",
   "metadata": {},
   "outputs": [],
   "source": [
    "setSize = 40\n",
    "for i in range(1, 7):\n",
    "    fileList = classFiles[str(i)]\n",
    "    selectedFiles = sample(fileList, setSize * 3)\n",
    "    trainFiles = sample(selectedFiles, setSize)\n",
    "    valFiles = sample([f for f in selectedFiles if f not in trainFiles], setSize)\n",
    "    testFiles = [f for f in selectedFiles if f not in trainFiles + valFiles]\n",
    "\n",
    "    for f in trainFiles:\n",
    "        imgFile = f[:-3] + \"jpg\"\n",
    "        !cp captures/$f images/train/\n",
    "        !cp captures/$imgFile images/train/\n",
    "\n",
    "    for f in valFiles:\n",
    "        imgFile = f[:-3] + \"jpg\"\n",
    "        !cp captures/$f images/val/\n",
    "        !cp captures/$imgFile images/val/\n",
    "\n",
    "    for f in testFiles:\n",
    "        imgFile = f[:-3] + \"jpg\"\n",
    "        !cp captures/$f images/test/\n",
    "        !cp captures/$imgFile images/val/"
   ]
  },
  {
   "cell_type": "code",
   "execution_count": 20,
   "id": "eedcd8c5-3c0a-4b19-85ab-2d7119a626b3",
   "metadata": {},
   "outputs": [
    {
     "data": {
      "text/plain": [
       "<Axes: >"
      ]
     },
     "execution_count": 20,
     "metadata": {},
     "output_type": "execute_result"
    },
    {
     "data": {
      "image/png": "[encoded data removed]",
      "text/plain": [
       "<Figure size 640x480 with 1 Axes>"
      ]
     },
     "metadata": {},
     "output_type": "display_data"
    }
   ],
   "source": [
    "import pandas as pd\n",
    "d = pd.Series(classes).sort_values()\n",
    "d.hist()"
   ]
  },
  {
   "cell_type": "code",
   "execution_count": 21,
   "id": "c8064b1c-ccd1-408a-b039-21e6ba7ff450",
   "metadata": {},
   "outputs": [
    {
     "data": {
      "text/plain": [
       "1    432\n",
       "4    292\n",
       "6    282\n",
       "3    162\n",
       "5    156\n",
       "2    154\n",
       "       6\n",
       "Name: count, dtype: int64"
      ]
     },
     "execution_count": 21,
     "metadata": {},
     "output_type": "execute_result"
    }
   ],
   "source": [
    "d.value_counts()"
   ]
  },
  {
   "cell_type": "code",
   "execution_count": null,
   "id": "8c722f33-9884-49ee-b48c-12479b565b23",
   "metadata": {},
   "outputs": [],
   "source": []
  }
 ],
 "metadata": {
  "kernelspec": {
   "display_name": "Python 3 (ipykernel)",
   "language": "python",
   "name": "python3"
  },
  "language_info": {
   "codemirror_mode": {
    "name": "ipython",
    "version": 3
   },
   "file_extension": ".py",
   "mimetype": "text/x-python",
   "name": "python",
   "nbconvert_exporter": "python",
   "pygments_lexer": "ipython3",
   "version": "3.9.2"
  }
 },
 "nbformat": 4,
 "nbformat_minor": 5
}
